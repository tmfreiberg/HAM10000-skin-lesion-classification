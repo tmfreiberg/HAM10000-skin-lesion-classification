{
 "cells": [
  {
   "cell_type": "code",
   "execution_count": 12,
   "id": "592353c0",
   "metadata": {
    "scrolled": false
   },
   "outputs": [
    {
     "name": "stdout",
     "output_type": "stream",
     "text": [
      "path['project'] : D:\\projects\\skin-lesion-classification\n",
      "path['images'] : D:\\projects\\skin-lesion-classification\\images\n",
      "path['models'] : D:\\projects\\skin-lesion-classification\\models\n",
      "path['expository'] : D:\\projects\\skin-lesion-classification\\expository\n",
      "path['literature'] : D:\\projects\\skin-lesion-classification\\literature\n",
      "path['notebooks'] : D:\\projects\\skin-lesion-classification\\notebooks\n",
      "path['presentation'] : D:\\projects\\skin-lesion-classification\\presentation\n",
      "path['scripts'] : D:\\projects\\skin-lesion-classification\\scripts\n"
     ]
    }
   ],
   "source": [
    "project_environment_variable = \"SKIN_LESION_CLASSIFICATION\"\n",
    "\n",
    "import os\n",
    "from pathlib import Path\n",
    "project_path = Path(os.environ.get(project_environment_variable))\n",
    "\n",
    "scripts_path = project_path.joinpath(\"scripts\")\n",
    "\n",
    "import sys\n",
    "sys.path.append(str(scripts_path)) \n",
    "\n",
    "from utils import path_setup\n",
    "path = path_setup.subfolders(project_path)"
   ]
  },
  {
   "cell_type": "code",
   "execution_count": 13,
   "id": "47bcd220",
   "metadata": {},
   "outputs": [],
   "source": [
    "from multiclass_models_copy_and_experiment import process"
   ]
  },
  {
   "cell_type": "code",
   "execution_count": 16,
   "id": "1200a821",
   "metadata": {},
   "outputs": [],
   "source": [
    "from typing import Type\n",
    "\n",
    "# process class attributes\n",
    "data_dir: Path = path[\"images\"] # Path to directory containing metadata csv file.\n",
    "filename: str = \"metadata.csv\"  # Name of metadata csv file.\n",
    "tvr: int = 3                    # Train/val ratio (number of lesions represented in train set is approx. tvr times number represented in val set).\n",
    "seed: int = 0                   # Random seed for selection of single image per lesion to be assigned to training set (if keep_first is False).\n",
    "keep_first: bool = False        # If True, keep first image for each lesion; otherwise, select random image for each lesion.\n",
    "dxs: list = [\"nv\",\n",
    "             \"mel\",\n",
    "             \"bcc\",\n",
    "             \"akiec\",]          # Subset of all diagnoses we are interested in classifying (missing dxs will be placed in \"other\" class)."
   ]
  },
  {
   "cell_type": "code",
   "execution_count": 17,
   "id": "dbcb4935",
   "metadata": {},
   "outputs": [
    {
     "name": "stdout",
     "output_type": "stream",
     "text": [
      "Successfully loaded file 'D:\\projects\\skin-lesion-classification\\images\\metadata.csv'.\n",
      "Inserted 'num_images' column.\n",
      "Inserted 'label' column.\n",
      "Added 'set' column with tags 't1', 'v1', 'ta', and 'va'.\n"
     ]
    }
   ],
   "source": [
    "metadata = process(data_dir, \n",
    "                   filename,\n",
    "                   tvr,\n",
    "                   seed, \n",
    "                   keep_first,\n",
    "                   dxs,)"
   ]
  },
  {
   "cell_type": "markdown",
   "id": "501fa60b",
   "metadata": {},
   "source": [
    "See ```01_binary_classification.ipynb``` for an explanation of the tags ```t1``` etc."
   ]
  },
  {
   "cell_type": "code",
   "execution_count": 18,
   "id": "f83b0ea4",
   "metadata": {},
   "outputs": [
    {
     "data": {
      "text/html": [
       "<div>\n",
       "<style scoped>\n",
       "    .dataframe tbody tr th:only-of-type {\n",
       "        vertical-align: middle;\n",
       "    }\n",
       "\n",
       "    .dataframe tbody tr th {\n",
       "        vertical-align: top;\n",
       "    }\n",
       "\n",
       "    .dataframe thead th {\n",
       "        text-align: right;\n",
       "    }\n",
       "</style>\n",
       "<table border=\"1\" class=\"dataframe\">\n",
       "  <thead>\n",
       "    <tr style=\"text-align: right;\">\n",
       "      <th></th>\n",
       "      <th>lesion_id</th>\n",
       "      <th>num_images</th>\n",
       "      <th>image_id</th>\n",
       "      <th>dx</th>\n",
       "      <th>label</th>\n",
       "      <th>dx_type</th>\n",
       "      <th>age</th>\n",
       "      <th>sex</th>\n",
       "      <th>localization</th>\n",
       "      <th>set</th>\n",
       "    </tr>\n",
       "  </thead>\n",
       "  <tbody>\n",
       "    <tr>\n",
       "      <th>0</th>\n",
       "      <td>HAM_0000118</td>\n",
       "      <td>2</td>\n",
       "      <td>ISIC_0027419</td>\n",
       "      <td>bkl</td>\n",
       "      <td>other</td>\n",
       "      <td>histo</td>\n",
       "      <td>80.0</td>\n",
       "      <td>male</td>\n",
       "      <td>scalp</td>\n",
       "      <td>va</td>\n",
       "    </tr>\n",
       "    <tr>\n",
       "      <th>1</th>\n",
       "      <td>HAM_0000118</td>\n",
       "      <td>2</td>\n",
       "      <td>ISIC_0025030</td>\n",
       "      <td>bkl</td>\n",
       "      <td>other</td>\n",
       "      <td>histo</td>\n",
       "      <td>80.0</td>\n",
       "      <td>male</td>\n",
       "      <td>scalp</td>\n",
       "      <td>v1</td>\n",
       "    </tr>\n",
       "    <tr>\n",
       "      <th>2</th>\n",
       "      <td>HAM_0002730</td>\n",
       "      <td>2</td>\n",
       "      <td>ISIC_0026769</td>\n",
       "      <td>bkl</td>\n",
       "      <td>other</td>\n",
       "      <td>histo</td>\n",
       "      <td>80.0</td>\n",
       "      <td>male</td>\n",
       "      <td>scalp</td>\n",
       "      <td>ta</td>\n",
       "    </tr>\n",
       "    <tr>\n",
       "      <th>3</th>\n",
       "      <td>HAM_0002730</td>\n",
       "      <td>2</td>\n",
       "      <td>ISIC_0025661</td>\n",
       "      <td>bkl</td>\n",
       "      <td>other</td>\n",
       "      <td>histo</td>\n",
       "      <td>80.0</td>\n",
       "      <td>male</td>\n",
       "      <td>scalp</td>\n",
       "      <td>t1</td>\n",
       "    </tr>\n",
       "  </tbody>\n",
       "</table>\n",
       "</div>"
      ],
      "text/plain": [
       "     lesion_id  num_images      image_id   dx  label dx_type   age   sex  \\\n",
       "0  HAM_0000118           2  ISIC_0027419  bkl  other   histo  80.0  male   \n",
       "1  HAM_0000118           2  ISIC_0025030  bkl  other   histo  80.0  male   \n",
       "2  HAM_0002730           2  ISIC_0026769  bkl  other   histo  80.0  male   \n",
       "3  HAM_0002730           2  ISIC_0025661  bkl  other   histo  80.0  male   \n",
       "\n",
       "  localization set  \n",
       "0        scalp  va  \n",
       "1        scalp  v1  \n",
       "2        scalp  ta  \n",
       "3        scalp  t1  "
      ]
     },
     "execution_count": 18,
     "metadata": {},
     "output_type": "execute_result"
    }
   ],
   "source": [
    "metadata.df.head(4)"
   ]
  },
  {
   "cell_type": "code",
   "execution_count": 19,
   "id": "8bb2cb89",
   "metadata": {},
   "outputs": [
    {
     "name": "stdout",
     "output_type": "stream",
     "text": [
      "=============================================\n",
      "DISTRIBUTION OF LESIONS BY DIAGNOSIS: OVERALL\n",
      "=============================================\n"
     ]
    },
    {
     "data": {
      "text/html": [
       "<div>\n",
       "<style scoped>\n",
       "    .dataframe tbody tr th:only-of-type {\n",
       "        vertical-align: middle;\n",
       "    }\n",
       "\n",
       "    .dataframe tbody tr th {\n",
       "        vertical-align: top;\n",
       "    }\n",
       "\n",
       "    .dataframe thead th {\n",
       "        text-align: right;\n",
       "    }\n",
       "</style>\n",
       "<table border=\"1\" class=\"dataframe\">\n",
       "  <thead>\n",
       "    <tr style=\"text-align: right;\">\n",
       "      <th>dx</th>\n",
       "      <th>nv</th>\n",
       "      <th>other</th>\n",
       "      <th>mel</th>\n",
       "      <th>bcc</th>\n",
       "      <th>akiec</th>\n",
       "    </tr>\n",
       "  </thead>\n",
       "  <tbody>\n",
       "    <tr>\n",
       "      <th>freq</th>\n",
       "      <td>5403.00</td>\n",
       "      <td>898.00</td>\n",
       "      <td>614.00</td>\n",
       "      <td>327.00</td>\n",
       "      <td>228.00</td>\n",
       "    </tr>\n",
       "    <tr>\n",
       "      <th>%</th>\n",
       "      <td>72.33</td>\n",
       "      <td>12.02</td>\n",
       "      <td>8.22</td>\n",
       "      <td>4.38</td>\n",
       "      <td>3.05</td>\n",
       "    </tr>\n",
       "  </tbody>\n",
       "</table>\n",
       "</div>"
      ],
      "text/plain": [
       "dx         nv   other     mel     bcc   akiec\n",
       "freq  5403.00  898.00  614.00  327.00  228.00\n",
       "%       72.33   12.02    8.22    4.38    3.05"
      ]
     },
     "metadata": {},
     "output_type": "display_data"
    },
    {
     "name": "stdout",
     "output_type": "stream",
     "text": [
      "Total lesions: 7470.\n",
      "\n",
      "=============================================\n",
      "DISTRIBUTION OF LESIONS BY DIAGNOSIS: TRAIN\n",
      "=============================================\n"
     ]
    },
    {
     "data": {
      "text/html": [
       "<div>\n",
       "<style scoped>\n",
       "    .dataframe tbody tr th:only-of-type {\n",
       "        vertical-align: middle;\n",
       "    }\n",
       "\n",
       "    .dataframe tbody tr th {\n",
       "        vertical-align: top;\n",
       "    }\n",
       "\n",
       "    .dataframe thead th {\n",
       "        text-align: right;\n",
       "    }\n",
       "</style>\n",
       "<table border=\"1\" class=\"dataframe\">\n",
       "  <thead>\n",
       "    <tr style=\"text-align: right;\">\n",
       "      <th>dx</th>\n",
       "      <th>nv</th>\n",
       "      <th>other</th>\n",
       "      <th>mel</th>\n",
       "      <th>bcc</th>\n",
       "      <th>akiec</th>\n",
       "    </tr>\n",
       "  </thead>\n",
       "  <tbody>\n",
       "    <tr>\n",
       "      <th>freq</th>\n",
       "      <td>4024.00</td>\n",
       "      <td>681.00</td>\n",
       "      <td>476.0</td>\n",
       "      <td>251.00</td>\n",
       "      <td>170.00</td>\n",
       "    </tr>\n",
       "    <tr>\n",
       "      <th>%</th>\n",
       "      <td>71.83</td>\n",
       "      <td>12.16</td>\n",
       "      <td>8.5</td>\n",
       "      <td>4.48</td>\n",
       "      <td>3.03</td>\n",
       "    </tr>\n",
       "  </tbody>\n",
       "</table>\n",
       "</div>"
      ],
      "text/plain": [
       "dx         nv   other    mel     bcc   akiec\n",
       "freq  4024.00  681.00  476.0  251.00  170.00\n",
       "%       71.83   12.16    8.5    4.48    3.03"
      ]
     },
     "metadata": {},
     "output_type": "display_data"
    },
    {
     "name": "stdout",
     "output_type": "stream",
     "text": [
      "Total lesions: 5602 (74.99% of all lesions).\n",
      "\n",
      "=============================================\n",
      "DISTRIBUTION OF LESIONS BY DIAGNOSIS: VAL\n",
      "=============================================\n"
     ]
    },
    {
     "data": {
      "text/html": [
       "<div>\n",
       "<style scoped>\n",
       "    .dataframe tbody tr th:only-of-type {\n",
       "        vertical-align: middle;\n",
       "    }\n",
       "\n",
       "    .dataframe tbody tr th {\n",
       "        vertical-align: top;\n",
       "    }\n",
       "\n",
       "    .dataframe thead th {\n",
       "        text-align: right;\n",
       "    }\n",
       "</style>\n",
       "<table border=\"1\" class=\"dataframe\">\n",
       "  <thead>\n",
       "    <tr style=\"text-align: right;\">\n",
       "      <th>dx</th>\n",
       "      <th>nv</th>\n",
       "      <th>other</th>\n",
       "      <th>mel</th>\n",
       "      <th>bcc</th>\n",
       "      <th>akiec</th>\n",
       "    </tr>\n",
       "  </thead>\n",
       "  <tbody>\n",
       "    <tr>\n",
       "      <th>freq</th>\n",
       "      <td>1379.00</td>\n",
       "      <td>217.00</td>\n",
       "      <td>138.00</td>\n",
       "      <td>76.00</td>\n",
       "      <td>58.0</td>\n",
       "    </tr>\n",
       "    <tr>\n",
       "      <th>%</th>\n",
       "      <td>73.82</td>\n",
       "      <td>11.62</td>\n",
       "      <td>7.39</td>\n",
       "      <td>4.07</td>\n",
       "      <td>3.1</td>\n",
       "    </tr>\n",
       "  </tbody>\n",
       "</table>\n",
       "</div>"
      ],
      "text/plain": [
       "dx         nv   other     mel    bcc  akiec\n",
       "freq  1379.00  217.00  138.00  76.00   58.0\n",
       "%       73.82   11.62    7.39   4.07    3.1"
      ]
     },
     "metadata": {},
     "output_type": "display_data"
    },
    {
     "name": "stdout",
     "output_type": "stream",
     "text": [
      "Total lesions: 1868 (25.01% of all lesions).\n",
      "\n",
      "=============================================\n",
      "DISTRIBUTION OF IMAGES BY DIAGNOSIS: OVERALL\n",
      "=============================================\n"
     ]
    },
    {
     "data": {
      "text/html": [
       "<div>\n",
       "<style scoped>\n",
       "    .dataframe tbody tr th:only-of-type {\n",
       "        vertical-align: middle;\n",
       "    }\n",
       "\n",
       "    .dataframe tbody tr th {\n",
       "        vertical-align: top;\n",
       "    }\n",
       "\n",
       "    .dataframe thead th {\n",
       "        text-align: right;\n",
       "    }\n",
       "</style>\n",
       "<table border=\"1\" class=\"dataframe\">\n",
       "  <thead>\n",
       "    <tr style=\"text-align: right;\">\n",
       "      <th>dx</th>\n",
       "      <th>nv</th>\n",
       "      <th>other</th>\n",
       "      <th>mel</th>\n",
       "      <th>bcc</th>\n",
       "      <th>akiec</th>\n",
       "    </tr>\n",
       "  </thead>\n",
       "  <tbody>\n",
       "    <tr>\n",
       "      <th>freq</th>\n",
       "      <td>6705.00</td>\n",
       "      <td>1356.00</td>\n",
       "      <td>1113.00</td>\n",
       "      <td>514.00</td>\n",
       "      <td>327.00</td>\n",
       "    </tr>\n",
       "    <tr>\n",
       "      <th>%</th>\n",
       "      <td>66.95</td>\n",
       "      <td>13.54</td>\n",
       "      <td>11.11</td>\n",
       "      <td>5.13</td>\n",
       "      <td>3.27</td>\n",
       "    </tr>\n",
       "  </tbody>\n",
       "</table>\n",
       "</div>"
      ],
      "text/plain": [
       "dx         nv    other      mel     bcc   akiec\n",
       "freq  6705.00  1356.00  1113.00  514.00  327.00\n",
       "%       66.95    13.54    11.11    5.13    3.27"
      ]
     },
     "metadata": {},
     "output_type": "display_data"
    },
    {
     "name": "stdout",
     "output_type": "stream",
     "text": [
      "Total images: 10015.\n",
      "\n",
      "=============================================\n",
      "DISTRIBUTION OF IMAGES BY DIAGNOSIS: TRAIN\n",
      "=============================================\n"
     ]
    },
    {
     "data": {
      "text/html": [
       "<div>\n",
       "<style scoped>\n",
       "    .dataframe tbody tr th:only-of-type {\n",
       "        vertical-align: middle;\n",
       "    }\n",
       "\n",
       "    .dataframe tbody tr th {\n",
       "        vertical-align: top;\n",
       "    }\n",
       "\n",
       "    .dataframe thead th {\n",
       "        text-align: right;\n",
       "    }\n",
       "</style>\n",
       "<table border=\"1\" class=\"dataframe\">\n",
       "  <thead>\n",
       "    <tr style=\"text-align: right;\">\n",
       "      <th>dx</th>\n",
       "      <th>nv</th>\n",
       "      <th>other</th>\n",
       "      <th>mel</th>\n",
       "      <th>bcc</th>\n",
       "      <th>akiec</th>\n",
       "    </tr>\n",
       "  </thead>\n",
       "  <tbody>\n",
       "    <tr>\n",
       "      <th>freq</th>\n",
       "      <td>4999.00</td>\n",
       "      <td>1025.00</td>\n",
       "      <td>865.0</td>\n",
       "      <td>390.00</td>\n",
       "      <td>240.00</td>\n",
       "    </tr>\n",
       "    <tr>\n",
       "      <th>%</th>\n",
       "      <td>66.48</td>\n",
       "      <td>13.63</td>\n",
       "      <td>11.5</td>\n",
       "      <td>5.19</td>\n",
       "      <td>3.19</td>\n",
       "    </tr>\n",
       "  </tbody>\n",
       "</table>\n",
       "</div>"
      ],
      "text/plain": [
       "dx         nv    other    mel     bcc   akiec\n",
       "freq  4999.00  1025.00  865.0  390.00  240.00\n",
       "%       66.48    13.63   11.5    5.19    3.19"
      ]
     },
     "metadata": {},
     "output_type": "display_data"
    },
    {
     "name": "stdout",
     "output_type": "stream",
     "text": [
      "Total images: 7519 (75.08% of all images).\n",
      "\n",
      "=============================================\n",
      "DISTRIBUTION OF IMAGES BY DIAGNOSIS: VAL\n",
      "=============================================\n"
     ]
    },
    {
     "data": {
      "text/html": [
       "<div>\n",
       "<style scoped>\n",
       "    .dataframe tbody tr th:only-of-type {\n",
       "        vertical-align: middle;\n",
       "    }\n",
       "\n",
       "    .dataframe tbody tr th {\n",
       "        vertical-align: top;\n",
       "    }\n",
       "\n",
       "    .dataframe thead th {\n",
       "        text-align: right;\n",
       "    }\n",
       "</style>\n",
       "<table border=\"1\" class=\"dataframe\">\n",
       "  <thead>\n",
       "    <tr style=\"text-align: right;\">\n",
       "      <th>dx</th>\n",
       "      <th>nv</th>\n",
       "      <th>other</th>\n",
       "      <th>mel</th>\n",
       "      <th>bcc</th>\n",
       "      <th>akiec</th>\n",
       "    </tr>\n",
       "  </thead>\n",
       "  <tbody>\n",
       "    <tr>\n",
       "      <th>freq</th>\n",
       "      <td>1706.00</td>\n",
       "      <td>331.00</td>\n",
       "      <td>248.00</td>\n",
       "      <td>124.00</td>\n",
       "      <td>87.00</td>\n",
       "    </tr>\n",
       "    <tr>\n",
       "      <th>%</th>\n",
       "      <td>68.35</td>\n",
       "      <td>13.26</td>\n",
       "      <td>9.94</td>\n",
       "      <td>4.97</td>\n",
       "      <td>3.49</td>\n",
       "    </tr>\n",
       "  </tbody>\n",
       "</table>\n",
       "</div>"
      ],
      "text/plain": [
       "dx         nv   other     mel     bcc  akiec\n",
       "freq  1706.00  331.00  248.00  124.00  87.00\n",
       "%       68.35   13.26    9.94    4.97   3.49"
      ]
     },
     "metadata": {},
     "output_type": "display_data"
    },
    {
     "name": "stdout",
     "output_type": "stream",
     "text": [
      "Total images: 2496 (24.92% of all images).\n",
      "\n"
     ]
    }
   ],
   "source": [
    "for across in [\"lesions\", \"images\"]:\n",
    "    for subset in [\"all\", \"train\", \"val\"]:\n",
    "        process.dx_dist(metadata, subset = subset, across = across)"
   ]
  },
  {
   "cell_type": "code",
   "execution_count": 20,
   "id": "0f7a4abf",
   "metadata": {},
   "outputs": [],
   "source": [
    "test_df = metadata.df.sample(n=64,random_state=0)"
   ]
  },
  {
   "cell_type": "code",
   "execution_count": 21,
   "id": "5aa1884a",
   "metadata": {},
   "outputs": [],
   "source": [
    "import torchvision.transforms as transforms\n",
    "\n",
    "transform = transforms.Compose([\n",
    "transforms.CenterCrop((300, 300)),\n",
    "transforms.Resize((224,224)), # Resize images to fit ResNet input size\n",
    "transforms.ToTensor(),\n",
    "transforms.Normalize(mean=[0.485, 0.456, 0.406], std=[0.229, 0.224, 0.225]),  # Normalize with ImageNet stats\n",
    "])    "
   ]
  },
  {
   "cell_type": "code",
   "execution_count": 22,
   "id": "0c8691a2",
   "metadata": {},
   "outputs": [],
   "source": [
    "import pandas as pd\n",
    "from typing import Type\n",
    "from typing import List, Callable\n",
    "\n",
    "df: pd.DataFrame = test_df # metadata.df \n",
    "train_set: list = [\"t1\"]              # [\"t1\"] (one image per lesion in training set); [\"t1\", \"ta\"] (all images for each lesion in training set).\n",
    "dxs: list = dxs                       # List of diagnoses (labels/targets) to classify.\n",
    "label_codes: dict = metadata.label_codes\n",
    "data_dir: Path = path[\"images\"]       # Path to directory where images are stored.\n",
    "model_dir: Path = path[\"models\"]      # Path to directory where models/model info/model results are stored.\n",
    "transform: List[Callable] = transform # Transform to be applied to images before feeding to ResNet-18\n",
    "batch_size: int = 32                  # Mini-batch size: default 32.\n",
    "epochs: int = 1                       # Number of epochs (all layers unfrozen from the start): default 10.\n",
    "base_learning_rate: float = 0.001     # Learning rate to start with: default 0.001. Using Adam optimizer.\n",
    "filename_stem: str = \"rn18mc\"         # For saving model and related files. train set and num epochs will be appended automatically. Default \"rn18mc\".\n",
    "filename_suffix: str = \"test\"         # Something descriptive and unique for future reference and to avoid over-writing other files. Default empty string \"\"."
   ]
  },
  {
   "cell_type": "code",
   "execution_count": 23,
   "id": "22b50227",
   "metadata": {},
   "outputs": [],
   "source": [
    "from multiclass_models import resnet18\n",
    "\n",
    "resnet18mc_test = resnet18(df,\n",
    "                           train_set, \n",
    "                           dxs,\n",
    "                           label_codes,\n",
    "                           data_dir,\n",
    "                           model_dir,\n",
    "                           transform,\n",
    "                           batch_size,\n",
    "                           epochs,\n",
    "                           base_learning_rate,\n",
    "                           filename_stem,\n",
    "                           filename_suffix,)"
   ]
  },
  {
   "cell_type": "code",
   "execution_count": 24,
   "id": "3f198de9",
   "metadata": {
    "scrolled": false
   },
   "outputs": [
    {
     "name": "stdout",
     "output_type": "stream",
     "text": [
      "Epoch 1/1, Training Loss: 2.0213, Validation Loss: 0.8031\n",
      "Saving model.state_dict() as D:\\projects\\skin-lesion-classification\\models\\rn18mc_t1_1e_test.pth.\n",
      "model.state_dict() can now be accessed through state_dict attribute.\n",
      "Train/val losses can now be accessed through epoch_losses attribute.\n"
     ]
    }
   ],
   "source": [
    "resnet18mc_test.train()"
   ]
  },
  {
   "cell_type": "code",
   "execution_count": 25,
   "id": "104bd233",
   "metadata": {},
   "outputs": [
    {
     "data": {
      "text/plain": [
       "{'train_loss': array([2.02126753]), 'val_loss': array([0.80305725])}"
      ]
     },
     "execution_count": 25,
     "metadata": {},
     "output_type": "execute_result"
    }
   ],
   "source": [
    "resnet18mc_test.epoch_losses"
   ]
  },
  {
   "cell_type": "code",
   "execution_count": 26,
   "id": "6d85e64e",
   "metadata": {
    "scrolled": true
   },
   "outputs": [
    {
     "data": {
      "text/html": [
       "<div>\n",
       "<style scoped>\n",
       "    .dataframe tbody tr th:only-of-type {\n",
       "        vertical-align: middle;\n",
       "    }\n",
       "\n",
       "    .dataframe tbody tr th {\n",
       "        vertical-align: top;\n",
       "    }\n",
       "\n",
       "    .dataframe thead th {\n",
       "        text-align: right;\n",
       "    }\n",
       "</style>\n",
       "<table border=\"1\" class=\"dataframe\">\n",
       "  <thead>\n",
       "    <tr style=\"text-align: right;\">\n",
       "      <th></th>\n",
       "      <th>image_id</th>\n",
       "      <th>prob_other</th>\n",
       "      <th>prob_nv</th>\n",
       "      <th>prob_mel</th>\n",
       "      <th>prob_bcc</th>\n",
       "      <th>prob_akiec</th>\n",
       "    </tr>\n",
       "  </thead>\n",
       "  <tbody>\n",
       "    <tr>\n",
       "      <th>0</th>\n",
       "      <td>ISIC_0028664</td>\n",
       "      <td>0.166673</td>\n",
       "      <td>0.545753</td>\n",
       "      <td>0.151911</td>\n",
       "      <td>0.027902</td>\n",
       "      <td>0.107761</td>\n",
       "    </tr>\n",
       "    <tr>\n",
       "      <th>1</th>\n",
       "      <td>ISIC_0025998</td>\n",
       "      <td>0.089984</td>\n",
       "      <td>0.737531</td>\n",
       "      <td>0.090836</td>\n",
       "      <td>0.017457</td>\n",
       "      <td>0.064192</td>\n",
       "    </tr>\n",
       "    <tr>\n",
       "      <th>2</th>\n",
       "      <td>ISIC_0032817</td>\n",
       "      <td>0.056458</td>\n",
       "      <td>0.72</td>\n",
       "      <td>0.121035</td>\n",
       "      <td>0.037929</td>\n",
       "      <td>0.064578</td>\n",
       "    </tr>\n",
       "    <tr>\n",
       "      <th>3</th>\n",
       "      <td>ISIC_0026577</td>\n",
       "      <td>0.220658</td>\n",
       "      <td>0.381179</td>\n",
       "      <td>0.203652</td>\n",
       "      <td>0.044013</td>\n",
       "      <td>0.150498</td>\n",
       "    </tr>\n",
       "    <tr>\n",
       "      <th>4</th>\n",
       "      <td>ISIC_0026798</td>\n",
       "      <td>0.035833</td>\n",
       "      <td>0.01729</td>\n",
       "      <td>0.071095</td>\n",
       "      <td>0.631528</td>\n",
       "      <td>0.244253</td>\n",
       "    </tr>\n",
       "    <tr>\n",
       "      <th>...</th>\n",
       "      <td>...</td>\n",
       "      <td>...</td>\n",
       "      <td>...</td>\n",
       "      <td>...</td>\n",
       "      <td>...</td>\n",
       "      <td>...</td>\n",
       "    </tr>\n",
       "    <tr>\n",
       "      <th>27</th>\n",
       "      <td>ISIC_0027291</td>\n",
       "      <td>0.056162</td>\n",
       "      <td>0.000092</td>\n",
       "      <td>0.057993</td>\n",
       "      <td>0.79266</td>\n",
       "      <td>0.093092</td>\n",
       "    </tr>\n",
       "    <tr>\n",
       "      <th>28</th>\n",
       "      <td>ISIC_0026654</td>\n",
       "      <td>0.051349</td>\n",
       "      <td>0.78481</td>\n",
       "      <td>0.087964</td>\n",
       "      <td>0.014241</td>\n",
       "      <td>0.061636</td>\n",
       "    </tr>\n",
       "    <tr>\n",
       "      <th>29</th>\n",
       "      <td>ISIC_0033943</td>\n",
       "      <td>0.022072</td>\n",
       "      <td>0.927936</td>\n",
       "      <td>0.034078</td>\n",
       "      <td>0.003445</td>\n",
       "      <td>0.012468</td>\n",
       "    </tr>\n",
       "    <tr>\n",
       "      <th>30</th>\n",
       "      <td>ISIC_0033183</td>\n",
       "      <td>0.727905</td>\n",
       "      <td>0.011204</td>\n",
       "      <td>0.197099</td>\n",
       "      <td>0.037148</td>\n",
       "      <td>0.026644</td>\n",
       "    </tr>\n",
       "    <tr>\n",
       "      <th>31</th>\n",
       "      <td>ISIC_0028177</td>\n",
       "      <td>0.035931</td>\n",
       "      <td>0.850549</td>\n",
       "      <td>0.036865</td>\n",
       "      <td>0.029252</td>\n",
       "      <td>0.047403</td>\n",
       "    </tr>\n",
       "  </tbody>\n",
       "</table>\n",
       "<p>64 rows × 6 columns</p>\n",
       "</div>"
      ],
      "text/plain": [
       "        image_id prob_other   prob_nv  prob_mel  prob_bcc prob_akiec\n",
       "0   ISIC_0028664   0.166673  0.545753  0.151911  0.027902   0.107761\n",
       "1   ISIC_0025998   0.089984  0.737531  0.090836  0.017457   0.064192\n",
       "2   ISIC_0032817   0.056458      0.72  0.121035  0.037929   0.064578\n",
       "3   ISIC_0026577   0.220658  0.381179  0.203652  0.044013   0.150498\n",
       "4   ISIC_0026798   0.035833   0.01729  0.071095  0.631528   0.244253\n",
       "..           ...        ...       ...       ...       ...        ...\n",
       "27  ISIC_0027291   0.056162  0.000092  0.057993   0.79266   0.093092\n",
       "28  ISIC_0026654   0.051349   0.78481  0.087964  0.014241   0.061636\n",
       "29  ISIC_0033943   0.022072  0.927936  0.034078  0.003445   0.012468\n",
       "30  ISIC_0033183   0.727905  0.011204  0.197099  0.037148   0.026644\n",
       "31  ISIC_0028177   0.035931  0.850549  0.036865  0.029252   0.047403\n",
       "\n",
       "[64 rows x 6 columns]"
      ]
     },
     "execution_count": 26,
     "metadata": {},
     "output_type": "execute_result"
    }
   ],
   "source": [
    "prob_df = resnet18mc_test.inference()\n",
    "prob_df"
   ]
  },
  {
   "cell_type": "code",
   "execution_count": null,
   "id": "a34a69ff",
   "metadata": {},
   "outputs": [],
   "source": []
  }
 ],
 "metadata": {
  "kernelspec": {
   "display_name": "Python 3 (ipykernel)",
   "language": "python",
   "name": "python3"
  },
  "language_info": {
   "codemirror_mode": {
    "name": "ipython",
    "version": 3
   },
   "file_extension": ".py",
   "mimetype": "text/x-python",
   "name": "python",
   "nbconvert_exporter": "python",
   "pygments_lexer": "ipython3",
   "version": "3.10.5"
  }
 },
 "nbformat": 4,
 "nbformat_minor": 5
}
