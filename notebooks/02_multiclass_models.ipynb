{
 "cells": [
  {
   "cell_type": "code",
   "execution_count": 1,
   "id": "592353c0",
   "metadata": {
    "scrolled": false
   },
   "outputs": [
    {
     "name": "stdout",
     "output_type": "stream",
     "text": [
      "path['project'] : D:\\projects\\skin-lesion-classification\n",
      "path['images'] : D:\\projects\\skin-lesion-classification\\images\n",
      "path['models'] : D:\\projects\\skin-lesion-classification\\models\n",
      "path['expository'] : D:\\projects\\skin-lesion-classification\\expository\n",
      "path['literature'] : D:\\projects\\skin-lesion-classification\\literature\n",
      "path['notebooks'] : D:\\projects\\skin-lesion-classification\\notebooks\n",
      "path['presentation'] : D:\\projects\\skin-lesion-classification\\presentation\n",
      "path['scripts'] : D:\\projects\\skin-lesion-classification\\scripts\n"
     ]
    }
   ],
   "source": [
    "project_environment_variable = \"SKIN_LESION_CLASSIFICATION\"\n",
    "\n",
    "import os\n",
    "from pathlib import Path\n",
    "project_path = Path(os.environ.get(project_environment_variable))\n",
    "\n",
    "scripts_path = project_path.joinpath(\"scripts\")\n",
    "\n",
    "import sys\n",
    "sys.path.append(str(scripts_path)) \n",
    "\n",
    "from utils import path_setup\n",
    "path = path_setup.subfolders(project_path)"
   ]
  },
  {
   "cell_type": "code",
   "execution_count": 29,
   "id": "356347b8",
   "metadata": {},
   "outputs": [
    {
     "name": "stdout",
     "output_type": "stream",
     "text": [
      "0 d\n",
      "1 c\n",
      "2 f\n",
      "3 g\n",
      "4 a\n",
      "5 e\n",
      "6 b\n"
     ]
    }
   ],
   "source": [
    "S = {\"b\", \"a\", \"c\",\"g\", \"e\"}\n",
    "S.update({\"f\", \"d\" })\n",
    "# S = sorted(S)\n",
    "for i, x in enumerate(S):\n",
    "    print(i, x)"
   ]
  },
  {
   "cell_type": "code",
   "execution_count": 2,
   "id": "47bcd220",
   "metadata": {},
   "outputs": [],
   "source": [
    "from multiclass_models import process"
   ]
  },
  {
   "cell_type": "code",
   "execution_count": 6,
   "id": "1200a821",
   "metadata": {},
   "outputs": [],
   "source": [
    "from typing import Type\n",
    "\n",
    "# process class attributes\n",
    "data_dir: Path = path[\"images\"] # Path to directory containing metadata csv file.\n",
    "filename: str = \"metadata.csv\"  # Name of metadata csv file.\n",
    "tvr: int = 3                    # Train/val ratio (number of lesions represented in train set is approx. tvr times number represented in val set).\n",
    "seed: int = 0                   # Random seed for selection of single image per lesion to be assigned to training set (if keep_first is False).\n",
    "keep_first: bool = False        # If True, keep first image for each lesion; otherwise, select random image for each lesion.\n",
    "dxs: list = [\"nv\",\n",
    "             \"mel\",\n",
    "             \"bcc\",\n",
    "             \"akiec\",]          # Subset of all diagnoses we are interested in classifying (missing dxs will be placed in \"other\" class)."
   ]
  },
  {
   "cell_type": "code",
   "execution_count": 7,
   "id": "dbcb4935",
   "metadata": {},
   "outputs": [
    {
     "name": "stdout",
     "output_type": "stream",
     "text": [
      "Successfully loaded file 'D:\\projects\\skin-lesion-classification\\images\\metadata.csv'.\n",
      "Inserted 'num_images' column.\n",
      "Inserted 'label' column.\n",
      "Added 'set' column with tags 't1', 'v1', 'ta', and 'va'.\n"
     ]
    }
   ],
   "source": [
    "metadata = process(data_dir, \n",
    "                   filename,\n",
    "                   tvr,\n",
    "                   seed, \n",
    "                   keep_first,\n",
    "                   dxs,)"
   ]
  },
  {
   "cell_type": "markdown",
   "id": "501fa60b",
   "metadata": {},
   "source": [
    "See ```01_binary_classification.ipynb``` for an explanation of the tags ```t1``` etc."
   ]
  },
  {
   "cell_type": "code",
   "execution_count": 8,
   "id": "b5f71744",
   "metadata": {},
   "outputs": [
    {
     "data": {
      "text/html": [
       "<div>\n",
       "<style scoped>\n",
       "    .dataframe tbody tr th:only-of-type {\n",
       "        vertical-align: middle;\n",
       "    }\n",
       "\n",
       "    .dataframe tbody tr th {\n",
       "        vertical-align: top;\n",
       "    }\n",
       "\n",
       "    .dataframe thead th {\n",
       "        text-align: right;\n",
       "    }\n",
       "</style>\n",
       "<table border=\"1\" class=\"dataframe\">\n",
       "  <thead>\n",
       "    <tr style=\"text-align: right;\">\n",
       "      <th></th>\n",
       "      <th>lesion_id</th>\n",
       "      <th>num_images</th>\n",
       "      <th>image_id</th>\n",
       "      <th>dx</th>\n",
       "      <th>label</th>\n",
       "      <th>dx_type</th>\n",
       "      <th>age</th>\n",
       "      <th>sex</th>\n",
       "      <th>localization</th>\n",
       "      <th>set</th>\n",
       "    </tr>\n",
       "  </thead>\n",
       "  <tbody>\n",
       "    <tr>\n",
       "      <th>0</th>\n",
       "      <td>HAM_0000118</td>\n",
       "      <td>2</td>\n",
       "      <td>ISIC_0027419</td>\n",
       "      <td>bkl</td>\n",
       "      <td>other</td>\n",
       "      <td>histo</td>\n",
       "      <td>80.0</td>\n",
       "      <td>male</td>\n",
       "      <td>scalp</td>\n",
       "      <td>va</td>\n",
       "    </tr>\n",
       "    <tr>\n",
       "      <th>1</th>\n",
       "      <td>HAM_0000118</td>\n",
       "      <td>2</td>\n",
       "      <td>ISIC_0025030</td>\n",
       "      <td>bkl</td>\n",
       "      <td>other</td>\n",
       "      <td>histo</td>\n",
       "      <td>80.0</td>\n",
       "      <td>male</td>\n",
       "      <td>scalp</td>\n",
       "      <td>v1</td>\n",
       "    </tr>\n",
       "    <tr>\n",
       "      <th>2</th>\n",
       "      <td>HAM_0002730</td>\n",
       "      <td>2</td>\n",
       "      <td>ISIC_0026769</td>\n",
       "      <td>bkl</td>\n",
       "      <td>other</td>\n",
       "      <td>histo</td>\n",
       "      <td>80.0</td>\n",
       "      <td>male</td>\n",
       "      <td>scalp</td>\n",
       "      <td>ta</td>\n",
       "    </tr>\n",
       "    <tr>\n",
       "      <th>3</th>\n",
       "      <td>HAM_0002730</td>\n",
       "      <td>2</td>\n",
       "      <td>ISIC_0025661</td>\n",
       "      <td>bkl</td>\n",
       "      <td>other</td>\n",
       "      <td>histo</td>\n",
       "      <td>80.0</td>\n",
       "      <td>male</td>\n",
       "      <td>scalp</td>\n",
       "      <td>t1</td>\n",
       "    </tr>\n",
       "  </tbody>\n",
       "</table>\n",
       "</div>"
      ],
      "text/plain": [
       "     lesion_id  num_images      image_id   dx  label dx_type   age   sex  \\\n",
       "0  HAM_0000118           2  ISIC_0027419  bkl  other   histo  80.0  male   \n",
       "1  HAM_0000118           2  ISIC_0025030  bkl  other   histo  80.0  male   \n",
       "2  HAM_0002730           2  ISIC_0026769  bkl  other   histo  80.0  male   \n",
       "3  HAM_0002730           2  ISIC_0025661  bkl  other   histo  80.0  male   \n",
       "\n",
       "  localization set  \n",
       "0        scalp  va  \n",
       "1        scalp  v1  \n",
       "2        scalp  ta  \n",
       "3        scalp  t1  "
      ]
     },
     "execution_count": 8,
     "metadata": {},
     "output_type": "execute_result"
    }
   ],
   "source": [
    "metadata.df.head(4)"
   ]
  },
  {
   "cell_type": "code",
   "execution_count": 9,
   "id": "8bb2cb89",
   "metadata": {},
   "outputs": [
    {
     "name": "stdout",
     "output_type": "stream",
     "text": [
      "=============================================\n",
      "DISTRIBUTION OF LESIONS BY DIAGNOSIS: OVERALL\n",
      "=============================================\n"
     ]
    },
    {
     "data": {
      "text/html": [
       "<div>\n",
       "<style scoped>\n",
       "    .dataframe tbody tr th:only-of-type {\n",
       "        vertical-align: middle;\n",
       "    }\n",
       "\n",
       "    .dataframe tbody tr th {\n",
       "        vertical-align: top;\n",
       "    }\n",
       "\n",
       "    .dataframe thead th {\n",
       "        text-align: right;\n",
       "    }\n",
       "</style>\n",
       "<table border=\"1\" class=\"dataframe\">\n",
       "  <thead>\n",
       "    <tr style=\"text-align: right;\">\n",
       "      <th>dx</th>\n",
       "      <th>nv</th>\n",
       "      <th>other</th>\n",
       "      <th>mel</th>\n",
       "      <th>bcc</th>\n",
       "      <th>akiec</th>\n",
       "    </tr>\n",
       "  </thead>\n",
       "  <tbody>\n",
       "    <tr>\n",
       "      <th>freq</th>\n",
       "      <td>5403.00</td>\n",
       "      <td>898.00</td>\n",
       "      <td>614.00</td>\n",
       "      <td>327.00</td>\n",
       "      <td>228.00</td>\n",
       "    </tr>\n",
       "    <tr>\n",
       "      <th>%</th>\n",
       "      <td>72.33</td>\n",
       "      <td>12.02</td>\n",
       "      <td>8.22</td>\n",
       "      <td>4.38</td>\n",
       "      <td>3.05</td>\n",
       "    </tr>\n",
       "  </tbody>\n",
       "</table>\n",
       "</div>"
      ],
      "text/plain": [
       "dx         nv   other     mel     bcc   akiec\n",
       "freq  5403.00  898.00  614.00  327.00  228.00\n",
       "%       72.33   12.02    8.22    4.38    3.05"
      ]
     },
     "metadata": {},
     "output_type": "display_data"
    },
    {
     "name": "stdout",
     "output_type": "stream",
     "text": [
      "Total lesions: 7470.\n",
      "\n",
      "=============================================\n",
      "DISTRIBUTION OF LESIONS BY DIAGNOSIS: TRAIN\n",
      "=============================================\n"
     ]
    },
    {
     "data": {
      "text/html": [
       "<div>\n",
       "<style scoped>\n",
       "    .dataframe tbody tr th:only-of-type {\n",
       "        vertical-align: middle;\n",
       "    }\n",
       "\n",
       "    .dataframe tbody tr th {\n",
       "        vertical-align: top;\n",
       "    }\n",
       "\n",
       "    .dataframe thead th {\n",
       "        text-align: right;\n",
       "    }\n",
       "</style>\n",
       "<table border=\"1\" class=\"dataframe\">\n",
       "  <thead>\n",
       "    <tr style=\"text-align: right;\">\n",
       "      <th>dx</th>\n",
       "      <th>nv</th>\n",
       "      <th>other</th>\n",
       "      <th>mel</th>\n",
       "      <th>bcc</th>\n",
       "      <th>akiec</th>\n",
       "    </tr>\n",
       "  </thead>\n",
       "  <tbody>\n",
       "    <tr>\n",
       "      <th>freq</th>\n",
       "      <td>4024.00</td>\n",
       "      <td>681.00</td>\n",
       "      <td>476.0</td>\n",
       "      <td>251.00</td>\n",
       "      <td>170.00</td>\n",
       "    </tr>\n",
       "    <tr>\n",
       "      <th>%</th>\n",
       "      <td>71.83</td>\n",
       "      <td>12.16</td>\n",
       "      <td>8.5</td>\n",
       "      <td>4.48</td>\n",
       "      <td>3.03</td>\n",
       "    </tr>\n",
       "  </tbody>\n",
       "</table>\n",
       "</div>"
      ],
      "text/plain": [
       "dx         nv   other    mel     bcc   akiec\n",
       "freq  4024.00  681.00  476.0  251.00  170.00\n",
       "%       71.83   12.16    8.5    4.48    3.03"
      ]
     },
     "metadata": {},
     "output_type": "display_data"
    },
    {
     "name": "stdout",
     "output_type": "stream",
     "text": [
      "Total lesions: 5602 (74.99% of all lesions).\n",
      "\n",
      "=============================================\n",
      "DISTRIBUTION OF LESIONS BY DIAGNOSIS: VAL\n",
      "=============================================\n"
     ]
    },
    {
     "data": {
      "text/html": [
       "<div>\n",
       "<style scoped>\n",
       "    .dataframe tbody tr th:only-of-type {\n",
       "        vertical-align: middle;\n",
       "    }\n",
       "\n",
       "    .dataframe tbody tr th {\n",
       "        vertical-align: top;\n",
       "    }\n",
       "\n",
       "    .dataframe thead th {\n",
       "        text-align: right;\n",
       "    }\n",
       "</style>\n",
       "<table border=\"1\" class=\"dataframe\">\n",
       "  <thead>\n",
       "    <tr style=\"text-align: right;\">\n",
       "      <th>dx</th>\n",
       "      <th>nv</th>\n",
       "      <th>other</th>\n",
       "      <th>mel</th>\n",
       "      <th>bcc</th>\n",
       "      <th>akiec</th>\n",
       "    </tr>\n",
       "  </thead>\n",
       "  <tbody>\n",
       "    <tr>\n",
       "      <th>freq</th>\n",
       "      <td>1379.00</td>\n",
       "      <td>217.00</td>\n",
       "      <td>138.00</td>\n",
       "      <td>76.00</td>\n",
       "      <td>58.0</td>\n",
       "    </tr>\n",
       "    <tr>\n",
       "      <th>%</th>\n",
       "      <td>73.82</td>\n",
       "      <td>11.62</td>\n",
       "      <td>7.39</td>\n",
       "      <td>4.07</td>\n",
       "      <td>3.1</td>\n",
       "    </tr>\n",
       "  </tbody>\n",
       "</table>\n",
       "</div>"
      ],
      "text/plain": [
       "dx         nv   other     mel    bcc  akiec\n",
       "freq  1379.00  217.00  138.00  76.00   58.0\n",
       "%       73.82   11.62    7.39   4.07    3.1"
      ]
     },
     "metadata": {},
     "output_type": "display_data"
    },
    {
     "name": "stdout",
     "output_type": "stream",
     "text": [
      "Total lesions: 1868 (25.01% of all lesions).\n",
      "\n",
      "=============================================\n",
      "DISTRIBUTION OF IMAGES BY DIAGNOSIS: OVERALL\n",
      "=============================================\n"
     ]
    },
    {
     "data": {
      "text/html": [
       "<div>\n",
       "<style scoped>\n",
       "    .dataframe tbody tr th:only-of-type {\n",
       "        vertical-align: middle;\n",
       "    }\n",
       "\n",
       "    .dataframe tbody tr th {\n",
       "        vertical-align: top;\n",
       "    }\n",
       "\n",
       "    .dataframe thead th {\n",
       "        text-align: right;\n",
       "    }\n",
       "</style>\n",
       "<table border=\"1\" class=\"dataframe\">\n",
       "  <thead>\n",
       "    <tr style=\"text-align: right;\">\n",
       "      <th>dx</th>\n",
       "      <th>nv</th>\n",
       "      <th>other</th>\n",
       "      <th>mel</th>\n",
       "      <th>bcc</th>\n",
       "      <th>akiec</th>\n",
       "    </tr>\n",
       "  </thead>\n",
       "  <tbody>\n",
       "    <tr>\n",
       "      <th>freq</th>\n",
       "      <td>6705.00</td>\n",
       "      <td>1356.00</td>\n",
       "      <td>1113.00</td>\n",
       "      <td>514.00</td>\n",
       "      <td>327.00</td>\n",
       "    </tr>\n",
       "    <tr>\n",
       "      <th>%</th>\n",
       "      <td>66.95</td>\n",
       "      <td>13.54</td>\n",
       "      <td>11.11</td>\n",
       "      <td>5.13</td>\n",
       "      <td>3.27</td>\n",
       "    </tr>\n",
       "  </tbody>\n",
       "</table>\n",
       "</div>"
      ],
      "text/plain": [
       "dx         nv    other      mel     bcc   akiec\n",
       "freq  6705.00  1356.00  1113.00  514.00  327.00\n",
       "%       66.95    13.54    11.11    5.13    3.27"
      ]
     },
     "metadata": {},
     "output_type": "display_data"
    },
    {
     "name": "stdout",
     "output_type": "stream",
     "text": [
      "Total images: 10015.\n",
      "\n",
      "=============================================\n",
      "DISTRIBUTION OF IMAGES BY DIAGNOSIS: TRAIN\n",
      "=============================================\n"
     ]
    },
    {
     "data": {
      "text/html": [
       "<div>\n",
       "<style scoped>\n",
       "    .dataframe tbody tr th:only-of-type {\n",
       "        vertical-align: middle;\n",
       "    }\n",
       "\n",
       "    .dataframe tbody tr th {\n",
       "        vertical-align: top;\n",
       "    }\n",
       "\n",
       "    .dataframe thead th {\n",
       "        text-align: right;\n",
       "    }\n",
       "</style>\n",
       "<table border=\"1\" class=\"dataframe\">\n",
       "  <thead>\n",
       "    <tr style=\"text-align: right;\">\n",
       "      <th>dx</th>\n",
       "      <th>nv</th>\n",
       "      <th>other</th>\n",
       "      <th>mel</th>\n",
       "      <th>bcc</th>\n",
       "      <th>akiec</th>\n",
       "    </tr>\n",
       "  </thead>\n",
       "  <tbody>\n",
       "    <tr>\n",
       "      <th>freq</th>\n",
       "      <td>4999.00</td>\n",
       "      <td>1025.00</td>\n",
       "      <td>865.0</td>\n",
       "      <td>390.00</td>\n",
       "      <td>240.00</td>\n",
       "    </tr>\n",
       "    <tr>\n",
       "      <th>%</th>\n",
       "      <td>66.48</td>\n",
       "      <td>13.63</td>\n",
       "      <td>11.5</td>\n",
       "      <td>5.19</td>\n",
       "      <td>3.19</td>\n",
       "    </tr>\n",
       "  </tbody>\n",
       "</table>\n",
       "</div>"
      ],
      "text/plain": [
       "dx         nv    other    mel     bcc   akiec\n",
       "freq  4999.00  1025.00  865.0  390.00  240.00\n",
       "%       66.48    13.63   11.5    5.19    3.19"
      ]
     },
     "metadata": {},
     "output_type": "display_data"
    },
    {
     "name": "stdout",
     "output_type": "stream",
     "text": [
      "Total images: 7519 (75.08% of all images).\n",
      "\n",
      "=============================================\n",
      "DISTRIBUTION OF IMAGES BY DIAGNOSIS: VAL\n",
      "=============================================\n"
     ]
    },
    {
     "data": {
      "text/html": [
       "<div>\n",
       "<style scoped>\n",
       "    .dataframe tbody tr th:only-of-type {\n",
       "        vertical-align: middle;\n",
       "    }\n",
       "\n",
       "    .dataframe tbody tr th {\n",
       "        vertical-align: top;\n",
       "    }\n",
       "\n",
       "    .dataframe thead th {\n",
       "        text-align: right;\n",
       "    }\n",
       "</style>\n",
       "<table border=\"1\" class=\"dataframe\">\n",
       "  <thead>\n",
       "    <tr style=\"text-align: right;\">\n",
       "      <th>dx</th>\n",
       "      <th>nv</th>\n",
       "      <th>other</th>\n",
       "      <th>mel</th>\n",
       "      <th>bcc</th>\n",
       "      <th>akiec</th>\n",
       "    </tr>\n",
       "  </thead>\n",
       "  <tbody>\n",
       "    <tr>\n",
       "      <th>freq</th>\n",
       "      <td>1706.00</td>\n",
       "      <td>331.00</td>\n",
       "      <td>248.00</td>\n",
       "      <td>124.00</td>\n",
       "      <td>87.00</td>\n",
       "    </tr>\n",
       "    <tr>\n",
       "      <th>%</th>\n",
       "      <td>68.35</td>\n",
       "      <td>13.26</td>\n",
       "      <td>9.94</td>\n",
       "      <td>4.97</td>\n",
       "      <td>3.49</td>\n",
       "    </tr>\n",
       "  </tbody>\n",
       "</table>\n",
       "</div>"
      ],
      "text/plain": [
       "dx         nv   other     mel     bcc  akiec\n",
       "freq  1706.00  331.00  248.00  124.00  87.00\n",
       "%       68.35   13.26    9.94    4.97   3.49"
      ]
     },
     "metadata": {},
     "output_type": "display_data"
    },
    {
     "name": "stdout",
     "output_type": "stream",
     "text": [
      "Total images: 2496 (24.92% of all images).\n",
      "\n"
     ]
    }
   ],
   "source": [
    "for across in [\"lesions\", \"images\"]:\n",
    "    for subset in [\"all\", \"train\", \"val\"]:\n",
    "        process.dx_dist(metadata, subset = subset, across = across)"
   ]
  },
  {
   "cell_type": "code",
   "execution_count": 7,
   "id": "0f7a4abf",
   "metadata": {},
   "outputs": [],
   "source": [
    "test_df = metadata.df.sample(n=64,random_state=0)"
   ]
  },
  {
   "cell_type": "code",
   "execution_count": 8,
   "id": "5aa1884a",
   "metadata": {},
   "outputs": [],
   "source": [
    "import torchvision.transforms as transforms\n",
    "\n",
    "transform = transforms.Compose([\n",
    "transforms.CenterCrop((300, 300)),\n",
    "transforms.Resize((224,224)), # Resize images to fit ResNet input size\n",
    "transforms.ToTensor(),\n",
    "transforms.Normalize(mean=[0.485, 0.456, 0.406], std=[0.229, 0.224, 0.225]),  # Normalize with ImageNet stats\n",
    "])    "
   ]
  },
  {
   "cell_type": "code",
   "execution_count": 9,
   "id": "0c8691a2",
   "metadata": {},
   "outputs": [],
   "source": [
    "import pandas as pd\n",
    "from typing import Type\n",
    "from typing import List, Callable\n",
    "\n",
    "df: pd.DataFrame = test_df # metadata.df \n",
    "train_set: list = [\"t1\"]              # [\"t1\"] (one image per lesion in training set); [\"t1\", \"ta\"] (all images for each lesion in training set).\n",
    "dxs: list = dxs                       # List of diagnoses (labels/targets) to classify.\n",
    "label_codes: dict = metadata.label_codes\n",
    "data_dir: Path = path[\"images\"]       # Path to directory where images are stored.\n",
    "model_dir: Path = path[\"models\"]      # Path to directory where models/model info/model results are stored.\n",
    "transform: List[Callable] = transform # Transform to be applied to images before feeding to ResNet-18\n",
    "batch_size: int = 32                  # Mini-batch size: default 32.\n",
    "epochs: int = 1                       # Number of epochs (all layers unfrozen from the start): default 10.\n",
    "base_learning_rate: float = 0.001     # Learning rate to start with: default 0.001. Using Adam optimizer.\n",
    "filename_stem: str = \"rn18mc\"         # For saving model and related files. train set and num epochs will be appended automatically. Default \"rn18mc\".\n",
    "filename_suffix: str = \"test\"         # Something descriptive and unique for future reference and to avoid over-writing other files. Default empty string \"\"."
   ]
  },
  {
   "cell_type": "code",
   "execution_count": 10,
   "id": "22b50227",
   "metadata": {},
   "outputs": [],
   "source": [
    "from multiclass_models import resnet18\n",
    "\n",
    "resnet18mc_test = resnet18(df,\n",
    "                           train_set, \n",
    "                           dxs,\n",
    "                           label_codes,\n",
    "                           data_dir,\n",
    "                           model_dir,\n",
    "                           transform,\n",
    "                           batch_size,\n",
    "                           epochs,\n",
    "                           base_learning_rate,\n",
    "                           filename_stem,\n",
    "                           filename_suffix,)"
   ]
  },
  {
   "cell_type": "code",
   "execution_count": 11,
   "id": "3f198de9",
   "metadata": {
    "scrolled": false
   },
   "outputs": [
    {
     "name": "stdout",
     "output_type": "stream",
     "text": [
      "Epoch 1/1, Training Loss: 2.0678, Validation Loss: 1.1020\n",
      "Saving model.state_dict() as D:\\projects\\skin-lesion-classification\\models\\rn18mc_t1_1e_test.pth.\n",
      "model.state_dict() can now be accessed through state_dict attribute.\n",
      "Train/val losses can now be accessed through epoch_losses attribute.\n"
     ]
    }
   ],
   "source": [
    "resnet18mc_test.train()"
   ]
  },
  {
   "cell_type": "code",
   "execution_count": 12,
   "id": "d0e42622",
   "metadata": {},
   "outputs": [
    {
     "data": {
      "text/plain": [
       "{'train_loss': array([2.06780052]), 'val_loss': array([1.101951])}"
      ]
     },
     "execution_count": 12,
     "metadata": {},
     "output_type": "execute_result"
    }
   ],
   "source": [
    "resnet18mc_test.epoch_losses"
   ]
  },
  {
   "cell_type": "code",
   "execution_count": 13,
   "id": "7d0a9632",
   "metadata": {
    "scrolled": true
   },
   "outputs": [
    {
     "data": {
      "text/html": [
       "<div>\n",
       "<style scoped>\n",
       "    .dataframe tbody tr th:only-of-type {\n",
       "        vertical-align: middle;\n",
       "    }\n",
       "\n",
       "    .dataframe tbody tr th {\n",
       "        vertical-align: top;\n",
       "    }\n",
       "\n",
       "    .dataframe thead th {\n",
       "        text-align: right;\n",
       "    }\n",
       "</style>\n",
       "<table border=\"1\" class=\"dataframe\">\n",
       "  <thead>\n",
       "    <tr style=\"text-align: right;\">\n",
       "      <th></th>\n",
       "      <th>image_id</th>\n",
       "      <th>prob_other</th>\n",
       "      <th>prob_nv</th>\n",
       "      <th>prob_mel</th>\n",
       "      <th>prob_bcc</th>\n",
       "      <th>prob_akiec</th>\n",
       "    </tr>\n",
       "  </thead>\n",
       "  <tbody>\n",
       "    <tr>\n",
       "      <th>0</th>\n",
       "      <td>&lt;NA&gt;</td>\n",
       "      <td>&lt;NA&gt;</td>\n",
       "      <td>&lt;NA&gt;</td>\n",
       "      <td>&lt;NA&gt;</td>\n",
       "      <td>&lt;NA&gt;</td>\n",
       "      <td>&lt;NA&gt;</td>\n",
       "    </tr>\n",
       "    <tr>\n",
       "      <th>0</th>\n",
       "      <td>ISIC_0028664</td>\n",
       "      <td>0.062252</td>\n",
       "      <td>0.778029</td>\n",
       "      <td>0.009443</td>\n",
       "      <td>0.097707</td>\n",
       "      <td>0.052569</td>\n",
       "    </tr>\n",
       "    <tr>\n",
       "      <th>1</th>\n",
       "      <td>ISIC_0025998</td>\n",
       "      <td>0.079042</td>\n",
       "      <td>0.689123</td>\n",
       "      <td>0.024967</td>\n",
       "      <td>0.074022</td>\n",
       "      <td>0.132846</td>\n",
       "    </tr>\n",
       "    <tr>\n",
       "      <th>2</th>\n",
       "      <td>ISIC_0032817</td>\n",
       "      <td>0.159856</td>\n",
       "      <td>0.452721</td>\n",
       "      <td>0.144249</td>\n",
       "      <td>0.063163</td>\n",
       "      <td>0.18001</td>\n",
       "    </tr>\n",
       "    <tr>\n",
       "      <th>3</th>\n",
       "      <td>ISIC_0026577</td>\n",
       "      <td>0.147288</td>\n",
       "      <td>0.459583</td>\n",
       "      <td>0.121426</td>\n",
       "      <td>0.116006</td>\n",
       "      <td>0.155697</td>\n",
       "    </tr>\n",
       "    <tr>\n",
       "      <th>...</th>\n",
       "      <td>...</td>\n",
       "      <td>...</td>\n",
       "      <td>...</td>\n",
       "      <td>...</td>\n",
       "      <td>...</td>\n",
       "      <td>...</td>\n",
       "    </tr>\n",
       "    <tr>\n",
       "      <th>27</th>\n",
       "      <td>ISIC_0027291</td>\n",
       "      <td>0.099387</td>\n",
       "      <td>0.108867</td>\n",
       "      <td>0.04234</td>\n",
       "      <td>0.606721</td>\n",
       "      <td>0.142684</td>\n",
       "    </tr>\n",
       "    <tr>\n",
       "      <th>28</th>\n",
       "      <td>ISIC_0026654</td>\n",
       "      <td>0.036743</td>\n",
       "      <td>0.579736</td>\n",
       "      <td>0.093502</td>\n",
       "      <td>0.079474</td>\n",
       "      <td>0.210546</td>\n",
       "    </tr>\n",
       "    <tr>\n",
       "      <th>29</th>\n",
       "      <td>ISIC_0033943</td>\n",
       "      <td>0.052816</td>\n",
       "      <td>0.824196</td>\n",
       "      <td>0.02526</td>\n",
       "      <td>0.067377</td>\n",
       "      <td>0.030351</td>\n",
       "    </tr>\n",
       "    <tr>\n",
       "      <th>30</th>\n",
       "      <td>ISIC_0033183</td>\n",
       "      <td>0.251628</td>\n",
       "      <td>0.291551</td>\n",
       "      <td>0.092659</td>\n",
       "      <td>0.158193</td>\n",
       "      <td>0.205969</td>\n",
       "    </tr>\n",
       "    <tr>\n",
       "      <th>31</th>\n",
       "      <td>ISIC_0028177</td>\n",
       "      <td>0.077057</td>\n",
       "      <td>0.741627</td>\n",
       "      <td>0.042069</td>\n",
       "      <td>0.07588</td>\n",
       "      <td>0.063366</td>\n",
       "    </tr>\n",
       "  </tbody>\n",
       "</table>\n",
       "<p>65 rows × 6 columns</p>\n",
       "</div>"
      ],
      "text/plain": [
       "        image_id prob_other   prob_nv  prob_mel  prob_bcc prob_akiec\n",
       "0           <NA>       <NA>      <NA>      <NA>      <NA>       <NA>\n",
       "0   ISIC_0028664   0.062252  0.778029  0.009443  0.097707   0.052569\n",
       "1   ISIC_0025998   0.079042  0.689123  0.024967  0.074022   0.132846\n",
       "2   ISIC_0032817   0.159856  0.452721  0.144249  0.063163    0.18001\n",
       "3   ISIC_0026577   0.147288  0.459583  0.121426  0.116006   0.155697\n",
       "..           ...        ...       ...       ...       ...        ...\n",
       "27  ISIC_0027291   0.099387  0.108867   0.04234  0.606721   0.142684\n",
       "28  ISIC_0026654   0.036743  0.579736  0.093502  0.079474   0.210546\n",
       "29  ISIC_0033943   0.052816  0.824196   0.02526  0.067377   0.030351\n",
       "30  ISIC_0033183   0.251628  0.291551  0.092659  0.158193   0.205969\n",
       "31  ISIC_0028177   0.077057  0.741627  0.042069   0.07588   0.063366\n",
       "\n",
       "[65 rows x 6 columns]"
      ]
     },
     "execution_count": 13,
     "metadata": {},
     "output_type": "execute_result"
    }
   ],
   "source": [
    "prob_df = resnet18mc_test.inference()\n",
    "prob_df"
   ]
  },
  {
   "cell_type": "code",
   "execution_count": null,
   "id": "5edb892e",
   "metadata": {},
   "outputs": [],
   "source": [
    "import torch\n",
    "import torch.nn as nn\n",
    "import torchvision.models as models\n",
    "from torchvision import transforms\n",
    "from PIL import Image"
   ]
  },
  {
   "cell_type": "code",
   "execution_count": null,
   "id": "4d965a62",
   "metadata": {},
   "outputs": [],
   "source": [
    "model = resnet18mc_test.model\n",
    "model.eval();"
   ]
  },
  {
   "cell_type": "code",
   "execution_count": null,
   "id": "8a1cc764",
   "metadata": {},
   "outputs": [],
   "source": [
    "image = Image.open(path[\"images\"].joinpath(\"ISIC_0028664.jpg\"))\n",
    "image = transform(image)\n",
    "image = image.unsqueeze(0)  # Add batch dimension (1 image)"
   ]
  },
  {
   "cell_type": "code",
   "execution_count": 25,
   "id": "fa3a884e",
   "metadata": {},
   "outputs": [],
   "source": [
    "# Make a prediction\n",
    "with torch.no_grad():\n",
    "    output = model(image)"
   ]
  },
  {
   "cell_type": "code",
   "execution_count": 26,
   "id": "36262457",
   "metadata": {},
   "outputs": [],
   "source": [
    "# Get the predicted class index\n",
    "_, predicted = torch.max(output, 1)\n",
    "predicted_class_index = predicted.item()"
   ]
  },
  {
   "cell_type": "code",
   "execution_count": 27,
   "id": "e3b7a19b",
   "metadata": {},
   "outputs": [
    {
     "data": {
      "text/plain": [
       "{'other': 0.12805189192295074,\n",
       " 'nv': 0.6369990110397339,\n",
       " 'mel': 0.025738338008522987,\n",
       " 'bcc': 0.03843827173113823,\n",
       " 'akiec': 0.1707724630832672}"
      ]
     },
     "execution_count": 27,
     "metadata": {},
     "output_type": "execute_result"
    }
   ],
   "source": [
    "# Apply softmax to get probabilities\n",
    "softmax = nn.Softmax(dim=1)\n",
    "probabilities = softmax(output)\n",
    "prob = { label : probabilities[0][idx].item() for idx, label in enumerate(metadata.label_codes.keys()) }\n",
    "# prob_dict = { label : probabilities[0][idx].item() for idx, label in enumerate(self.label_codes.keys()) }\n",
    "prob"
   ]
  },
  {
   "cell_type": "code",
   "execution_count": 32,
   "id": "ffe27730",
   "metadata": {},
   "outputs": [
    {
     "data": {
      "text/plain": [
       "array([0.12805189, 0.636999  , 0.02573834, 0.03843827, 0.17077246],\n",
       "      dtype=float32)"
      ]
     },
     "execution_count": 32,
     "metadata": {},
     "output_type": "execute_result"
    }
   ],
   "source": [
    "probabilities.numpy().flatten()"
   ]
  },
  {
   "cell_type": "code",
   "execution_count": 21,
   "id": "e524f2a6",
   "metadata": {},
   "outputs": [
    {
     "data": {
      "text/plain": [
       "0    2.666995e-09\n",
       "1    1.000000e+00\n",
       "2    3.777259e-11\n",
       "3    1.944458e-12\n",
       "4    4.334258e-08\n",
       "Name: prob, dtype: float32"
      ]
     },
     "metadata": {},
     "output_type": "display_data"
    },
    {
     "data": {
      "text/plain": [
       "0    [2.6669953e-09, 1.0, 3.7772594e-11, 1.9444583e...\n",
       "Name: prob, dtype: object"
      ]
     },
     "metadata": {},
     "output_type": "display_data"
    }
   ],
   "source": [
    "import numpy as np\n",
    "display(pd.Series(probabilities.numpy().flatten(), name=\"prob\"))\n",
    "display(pd.Series([probabilities.numpy().flatten()], name=\"prob\"))"
   ]
  },
  {
   "cell_type": "code",
   "execution_count": 23,
   "id": "dd8f2c2a",
   "metadata": {},
   "outputs": [
    {
     "data": {
      "text/html": [
       "<div>\n",
       "<style scoped>\n",
       "    .dataframe tbody tr th:only-of-type {\n",
       "        vertical-align: middle;\n",
       "    }\n",
       "\n",
       "    .dataframe tbody tr th {\n",
       "        vertical-align: top;\n",
       "    }\n",
       "\n",
       "    .dataframe thead th {\n",
       "        text-align: right;\n",
       "    }\n",
       "</style>\n",
       "<table border=\"1\" class=\"dataframe\">\n",
       "  <thead>\n",
       "    <tr style=\"text-align: right;\">\n",
       "      <th></th>\n",
       "      <th>image_id</th>\n",
       "      <th>prob</th>\n",
       "    </tr>\n",
       "  </thead>\n",
       "  <tbody>\n",
       "    <tr>\n",
       "      <th>0</th>\n",
       "      <td>ISIC_0028664</td>\n",
       "      <td>[2.6669953e-09, 1.0, 3.7772594e-11, 1.9444583e...</td>\n",
       "    </tr>\n",
       "  </tbody>\n",
       "</table>\n",
       "</div>"
      ],
      "text/plain": [
       "       image_id                                               prob\n",
       "0  ISIC_0028664  [2.6669953e-09, 1.0, 3.7772594e-11, 1.9444583e..."
      ]
     },
     "execution_count": 23,
     "metadata": {},
     "output_type": "execute_result"
    }
   ],
   "source": [
    "image_ids = [\"ISIC_0028664\"]\n",
    "batch_image_ids = pd.Series(image_ids, name = \"image_id\")\n",
    "# Pair each image_id with its corresponding prediction (probability) and put them in our dataframe\n",
    "batch_probs = pd.Series([probabilities.cpu().numpy().flatten()], name = \"prob\")\n",
    "batch = pd.concat([batch_image_ids, batch_probs], axis = 1,  keys=[\"image_id\", \"prob\"])\n",
    "batch"
   ]
  },
  {
   "cell_type": "code",
   "execution_count": 21,
   "id": "fdb4f04a",
   "metadata": {},
   "outputs": [
    {
     "data": {
      "text/plain": [
       "'nv'"
      ]
     },
     "execution_count": 21,
     "metadata": {},
     "output_type": "execute_result"
    }
   ],
   "source": [
    "codes_label = { value : key for (key, value) in metadata.label_codes.items()}\n",
    "codes_label[predicted_class_index]"
   ]
  },
  {
   "cell_type": "code",
   "execution_count": 20,
   "id": "54882d5c",
   "metadata": {},
   "outputs": [
    {
     "data": {
      "text/html": [
       "<div>\n",
       "<style scoped>\n",
       "    .dataframe tbody tr th:only-of-type {\n",
       "        vertical-align: middle;\n",
       "    }\n",
       "\n",
       "    .dataframe tbody tr th {\n",
       "        vertical-align: top;\n",
       "    }\n",
       "\n",
       "    .dataframe thead th {\n",
       "        text-align: right;\n",
       "    }\n",
       "</style>\n",
       "<table border=\"1\" class=\"dataframe\">\n",
       "  <thead>\n",
       "    <tr style=\"text-align: right;\">\n",
       "      <th></th>\n",
       "      <th>image_id</th>\n",
       "      <th>prob</th>\n",
       "    </tr>\n",
       "  </thead>\n",
       "  <tbody>\n",
       "  </tbody>\n",
       "</table>\n",
       "</div>"
      ],
      "text/plain": [
       "Empty DataFrame\n",
       "Columns: [image_id, prob]\n",
       "Index: []"
      ]
     },
     "execution_count": 20,
     "metadata": {},
     "output_type": "execute_result"
    }
   ],
   "source": [
    "image_id_prob = pd.DataFrame({\"image_id\": [pd.NA], \"prob\": [pd.NA]})\n",
    "image_id_prob = image_id_prob.dropna()\n",
    "image_id_prob"
   ]
  }
 ],
 "metadata": {
  "kernelspec": {
   "display_name": "Python 3 (ipykernel)",
   "language": "python",
   "name": "python3"
  },
  "language_info": {
   "codemirror_mode": {
    "name": "ipython",
    "version": 3
   },
   "file_extension": ".py",
   "mimetype": "text/x-python",
   "name": "python",
   "nbconvert_exporter": "python",
   "pygments_lexer": "ipython3",
   "version": "3.10.5"
  }
 },
 "nbformat": 4,
 "nbformat_minor": 5
}
